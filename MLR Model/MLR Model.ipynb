{
 "cells": [
  {
   "cell_type": "code",
   "execution_count": 4,
   "metadata": {},
   "outputs": [
    {
     "ename": "OSError",
     "evalue": "[Errno 22] Invalid argument: '/C:/Users/WOLFGANG/OneDrive - Imperial College London/ME3/Statistics/Coursework/aaa620.csv'",
     "output_type": "error",
     "traceback": [
      "\u001b[1;31m---------------------------------------------------------------------------\u001b[0m",
      "\u001b[1;31mOSError\u001b[0m                                   Traceback (most recent call last)",
      "\u001b[1;32m~\\AppData\\Local\\Temp\\ipykernel_31284\\3304911401.py\u001b[0m in \u001b[0;36m<module>\u001b[1;34m\u001b[0m\n\u001b[0;32m     18\u001b[0m \u001b[1;33m\u001b[0m\u001b[0m\n\u001b[0;32m     19\u001b[0m \u001b[1;31m# Call the function\u001b[0m\u001b[1;33m\u001b[0m\u001b[1;33m\u001b[0m\u001b[0m\n\u001b[1;32m---> 20\u001b[1;33m \u001b[0mheaders\u001b[0m\u001b[1;33m,\u001b[0m \u001b[0mData\u001b[0m \u001b[1;33m=\u001b[0m \u001b[0mread_csv_file\u001b[0m\u001b[1;33m(\u001b[0m\u001b[1;34m'/C:/Users/WOLFGANG/OneDrive - Imperial College London/ME3/Statistics/Coursework/aaa620.csv'\u001b[0m\u001b[1;33m)\u001b[0m\u001b[1;33m\u001b[0m\u001b[1;33m\u001b[0m\u001b[0m\n\u001b[0m\u001b[0;32m     21\u001b[0m \u001b[1;33m\u001b[0m\u001b[0m\n\u001b[0;32m     22\u001b[0m \u001b[1;31m#print data\u001b[0m\u001b[1;33m\u001b[0m\u001b[1;33m\u001b[0m\u001b[0m\n",
      "\u001b[1;32m~\\AppData\\Local\\Temp\\ipykernel_31284\\3304911401.py\u001b[0m in \u001b[0;36mread_csv_file\u001b[1;34m(file_path)\u001b[0m\n\u001b[0;32m     12\u001b[0m \u001b[1;31m# Function to read csv file\u001b[0m\u001b[1;33m\u001b[0m\u001b[1;33m\u001b[0m\u001b[0m\n\u001b[0;32m     13\u001b[0m \u001b[1;32mdef\u001b[0m \u001b[0mread_csv_file\u001b[0m\u001b[1;33m(\u001b[0m\u001b[0mfile_path\u001b[0m\u001b[1;33m)\u001b[0m\u001b[1;33m:\u001b[0m\u001b[1;33m\u001b[0m\u001b[1;33m\u001b[0m\u001b[0m\n\u001b[1;32m---> 14\u001b[1;33m     \u001b[1;32mwith\u001b[0m \u001b[0mopen\u001b[0m\u001b[1;33m(\u001b[0m\u001b[0mfile_path\u001b[0m\u001b[1;33m,\u001b[0m \u001b[1;34m'r'\u001b[0m\u001b[1;33m)\u001b[0m \u001b[1;32mas\u001b[0m \u001b[0mf\u001b[0m\u001b[1;33m:\u001b[0m\u001b[1;33m\u001b[0m\u001b[1;33m\u001b[0m\u001b[0m\n\u001b[0m\u001b[0;32m     15\u001b[0m         \u001b[0mheaders\u001b[0m \u001b[1;33m=\u001b[0m \u001b[0mf\u001b[0m\u001b[1;33m.\u001b[0m\u001b[0mreadline\u001b[0m\u001b[1;33m(\u001b[0m\u001b[1;33m)\u001b[0m\u001b[1;33m.\u001b[0m\u001b[0mstrip\u001b[0m\u001b[1;33m(\u001b[0m\u001b[1;33m)\u001b[0m\u001b[1;33m.\u001b[0m\u001b[0msplit\u001b[0m\u001b[1;33m(\u001b[0m\u001b[1;34m','\u001b[0m\u001b[1;33m)\u001b[0m\u001b[1;33m\u001b[0m\u001b[1;33m\u001b[0m\u001b[0m\n\u001b[0;32m     16\u001b[0m         \u001b[0mData\u001b[0m \u001b[1;33m=\u001b[0m \u001b[0mnp\u001b[0m\u001b[1;33m.\u001b[0m\u001b[0mgenfromtxt\u001b[0m\u001b[1;33m(\u001b[0m\u001b[0mf\u001b[0m\u001b[1;33m,\u001b[0m \u001b[0mdelimiter\u001b[0m\u001b[1;33m=\u001b[0m\u001b[1;34m','\u001b[0m\u001b[1;33m)\u001b[0m\u001b[1;33m\u001b[0m\u001b[1;33m\u001b[0m\u001b[0m\n",
      "\u001b[1;31mOSError\u001b[0m: [Errno 22] Invalid argument: '/C:/Users/WOLFGANG/OneDrive - Imperial College London/ME3/Statistics/Coursework/aaa620.csv'"
     ]
    }
   ],
   "source": [
    "\n",
    "#ME3 Statistics Coursework, Ayodeji Adeniyi(aaa620)\n",
    "'''\n",
    "Interests: Explainging variability in CO wrt T and RH\n",
    "Daily Averaged Values of CO, T and RH for 150 days\n",
    "Model CO as f(T,RH)\n",
    "Investigate a time index as a covariate\n",
    "'''\n",
    "\n",
    "# Import libraries\n",
    "import numpy as np\n",
    "\n",
    "# Function to read csv file\n",
    "def read_csv_file(file_path):\n",
    "    with open(aaa620.csv, 'r') as f:\n",
    "        headers = f.readline().strip().split(',')\n",
    "        Data = np.genfromtxt(f, delimiter=',')\n",
    "    return headers, Data\n",
    "\n",
    "# Call the function\n",
    "headers, Data = read_csv_file('/C:/Users/WOLFGANG/OneDrive - Imperial College London/ME3/Statistics/Coursework/aaa620.csv')\n",
    "\n",
    "#print data\n",
    "print(headers)\n",
    "print(Data)\n",
    "\n",
    "'''\n",
    "# Define variables\n",
    "t = 150;  # Number of days\n",
    "\n",
    "# Extract columns\n",
    "# Carbon Monoxide Concentration (mg/m^3), Temperature (C), Relative Humidity (%)\n",
    "CO = Data[:, 1]\n",
    "T = Data[:, 2]\n",
    "RH = Data[:, 3]\n",
    "'''"
   ]
  }
 ],
 "metadata": {
  "kernelspec": {
   "display_name": "Python 3 (ipykernel)",
   "language": "python",
   "name": "python3"
  }
 },
 "nbformat": 4,
 "nbformat_minor": 2
}
