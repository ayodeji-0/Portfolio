{
 "cells": [
  {
   "cell_type": "code",
   "execution_count": 6,
   "metadata": {},
   "outputs": [
    {
     "name": "stdout",
     "output_type": "stream",
     "text": [
      "{'ATOM.F': '5.20928100', 'MSOL': '0.6047700000', 'SOL.F': '1.1884947880', 'ZGBP': '3.8113'}\n",
      "altNames: \n",
      "['1INCHEUR', '1INCHUSD', 'AAVEETH', 'AAVEEUR', 'AAVEGBP', 'AAVEUSD', 'AAVEXBT', 'ACAEUR', 'ACAUSD', 'ACHEUR', 'ACHUSD', 'ADAAUD', 'ADAETH', 'ADAEUR', 'ADAGBP', 'ADAUSD', 'ADAUSDT', 'ADAXBT', 'ADXEUR', 'ADXUSD', 'AEVOEUR', 'AEVOUSD', 'AGLDEUR', 'AGLDUSD', 'AIREUR', 'AIRUSD', 'AKTEUR', 'AKTUSD', 'ALCXEUR', 'ALCXUSD', 'ALGOETH', 'ALGOEUR', 'ALGOGBP', 'ALGOUSD', 'ALGOUSDT', 'ALGOXBT', 'ALICEEUR', 'ALICEUSD', 'ALPHAEUR', 'ALPHAUSD', 'ALTEUR', 'ALTUSD', 'ANKREUR', 'ANKRUSD', 'ANKRXBT', 'ANTETH', 'ANTEUR', 'ANTUSD', 'ANTXBT', 'APEEUR', 'APEUSD', 'APEUSDT', 'API3EUR', 'API3USD', 'APTEUR', 'APTUSD', 'ARBEUR', 'ARBUSD', 'ARKMEUR', 'ARKMUSD', 'ARPAEUR', 'ARPAUSD', 'ASTREUR', 'ASTRUSD', 'ATLASEUR', 'ATLASUSD', 'ATOMETH', 'ATOMEUR', 'ATOMGBP', 'ATOMUSD', 'ATOMUSDT', 'ATOMXBT', 'AUCTIONEUR', 'AUCTIONUSD', 'AUDIOEUR', 'AUDIOUSD', 'AUDJPY', 'AUDUSD', 'AVAXEUR', 'AVAXUSD', 'AVAXUSDT', 'AXSEUR', 'AXSUSD', 'BADGEREUR', 'BADGERUSD', 'BALEUR', 'BALUSD', 'BALXBT', 'BANDEUR', 'BANDUSD', 'BATETH', 'BATEUR', 'BATUSD', 'BATXBT', 'BCHAUD', 'BCHETH', 'BCHEUR', 'BCHGBP', 'BCHJPY', 'BCHUSD', 'BCHUSDT', 'BCHXBT', 'BEAMEUR', 'BEAMUSD', 'BICOEUR', 'BICOUSD', 'BIGTIMEEUR', 'BIGTIMEUSD', 'BITEUR', 'BITUSD', 'BLUREUR', 'BLURUSD', 'BLZEUR', 'BLZUSD', 'BNCEUR', 'BNCUSD', 'BNTEUR', 'BNTUSD', 'BOBAEUR', 'BOBAUSD', 'BODENEUR', 'BODENUSD', 'BONDEUR', 'BONDUSD', 'BONKEUR', 'BONKUSD', 'BRICKEUR', 'BRICKUSD', 'BSXEUR', 'BSXUSD', 'BTTEUR', 'BTTUSD', 'C98EUR', 'C98USD', 'CELREUR', 'CELRUSD', 'CFGEUR', 'CFGUSD', 'CHREUR', 'CHRUSD', 'CHZEUR', 'CHZUSD', 'CLOUDEUR', 'CLOUDUSD', 'COMPEUR', 'COMPUSD', 'COMPXBT', 'COTIEUR', 'COTIUSD', 'CPOOLEUR', 'CPOOLUSD', 'CQTEUR', 'CQTUSD', 'CRVEUR', 'CRVUSD', 'CRVXBT', 'CSMEUR', 'CSMUSD', 'CTSIEUR', 'CTSIUSD', 'CVCEUR', 'CVCUSD', 'CVXEUR', 'CVXUSD', 'CXTEUR', 'CXTUSD', 'DAIEUR', 'DAIUSD', 'DAIUSDT', 'DASHEUR', 'DASHUSD', 'DASHXBT', 'DENTEUR', 'DENTUSD', 'DOTETH', 'DOTEUR', 'DOTGBP', 'DOTJPY', 'DOTUSD', 'DOTUSDT', 'DOTXBT', 'DRIFTEUR', 'DRIFTUSD', 'DYDXEUR', 'DYDXUSD', 'DYMEUR', 'DYMUSD', 'EGLDEUR', 'EGLDUSD', 'ENAEUR', 'ENAUSD', 'ENJEUR', 'ENJGBP', 'ENJJPY', 'ENJUSD', 'ENJXBT', 'ENSEUR', 'ENSUSD', 'EOSETH', 'EOSEUR', 'EOSUSD', 'EOSUSDT', 'EOSXBT', 'ETHAUD', 'ETHCHF', 'ETHDAI', 'ETHFIEUR', 'ETHFIUSD', 'ETHPYUSD', 'ETHUSDC', 'ETHUSDT', 'ETHWETH', 'ETHWEUR', 'ETHWUSD', 'EULEUR', 'EULUSD', 'EURAUD', 'EURCAD', 'EURCHF', 'EURGBP', 'EURJPY', 'EURTEUR', 'EURTUSD', 'EURTUSDT', 'EWTEUR', 'EWTGBP', 'EWTUSD', 'EWTXBT', 'FARMEUR', 'FARMUSD', 'FETEUR', 'FETUSD', 'FIDAEUR', 'FIDAUSD', 'FILETH', 'FILEUR', 'FILGBP', 'FILUSD', 'FILXBT', 'FISEUR', 'FISUSD', 'FLOKIEUR', 'FLOKIUSD', 'FLOWETH', 'FLOWEUR', 'FLOWUSD', 'FLOWXBT', 'FLREUR', 'FLRUSD', 'FORTHEUR', 'FORTHUSD', 'FTMEUR', 'FTMUSD', 'FXSEUR', 'FXSUSD', 'GALAEUR', 'GALAUSD', 'GALEUR', 'GALUSD', 'GARIEUR', 'GARIUSD', 'GHSTEUR', 'GHSTUSD', 'GHSTXBT', 'GLMREUR', 'GLMRUSD', 'GMTEUR', 'GMTUSD', 'GMXEUR', 'GMXUSD', 'GNOEUR', 'GNOUSD', 'GRTEUR', 'GRTGBP', 'GRTUSD', 'GRTXBT', 'GSTEUR', 'GSTUSD', 'GTCEUR', 'GTCUSD', 'HDXEUR', 'HDXUSD', 'HFTEUR', 'HFTUSD', 'HNTEUR', 'HNTUSD', 'HONEYEUR', 'HONEYUSD', 'ICPEUR', 'ICPUSD', 'ICXETH', 'ICXEUR', 'ICXUSD', 'ICXXBT', 'IDEXEUR', 'IDEXUSD', 'IMXEUR', 'IMXUSD', 'INJEUR', 'INJUSD', 'INTREUR', 'INTRUSD', 'JASMYEUR', 'JASMYUSD', 'JTOEUR', 'JTOUSD', 'JUNOEUR', 'JUNOUSD', 'JUPEUR', 'JUPUSD', 'KAREUR', 'KARUSD', 'KAVAETH', 'KAVAEUR', 'KAVAUSD', 'KAVAXBT', 'KEEPEUR', 'KEEPUSD', 'KEEPXBT', 'KEYEUR', 'KEYUSD', 'KILTEUR', 'KILTUSD', 'KINEUR', 'KINTEUR', 'KINTUSD', 'KINUSD', 'KMNOEUR', 'KMNOUSD', 'KNCETH', 'KNCEUR', 'KNCUSD', 'KP3REUR', 'KP3RUSD', 'KSMDOT', 'KSMETH', 'KSMEUR', 'KSMGBP', 'KSMUSD', 'KSMXBT', 'KUJIEUR', 'KUJIUSD', 'L3EUR', 'L3USD', 'LCXEUR', 'LCXUSD', 'LDOEUR', 'LDOUSD', 'LINKAUD', 'LINKETH', 'LINKEUR', 'LINKGBP', 'LINKJPY', 'LINKUSD', 'LINKUSDT', 'LINKXBT', 'LITEUR', 'LITUSD', 'LMWREUR', 'LMWRUSD', 'LPTEUR', 'LPTGBP', 'LPTUSD', 'LPTXBT', 'LRCEUR', 'LRCUSD', 'LSKEUR', 'LSKUSD', 'LTCAUD', 'LTCETH', 'LTCGBP', 'LTCUSDT', 'LUNA2EUR', 'LUNA2USD', 'LUNAEUR', 'LUNAUSD', 'MANAEUR', 'MANAUSD', 'MANAUSDT', 'MANAXBT', 'MASKEUR', 'MASKUSD', 'MATICEUR', 'MATICGBP', 'MATICUSD', 'MATICUSDT', 'MATICXBT', 'MCEUR', 'MCUSD', 'MEMEEUR', 'MEMEUSD', 'MINAEUR', 'MINAGBP', 'MINAUSD', 'MINAXBT', 'MIREUR', 'MIRUSD', 'MKREUR', 'MKRUSD', 'MKRXBT', 'MNGOEUR', 'MNGOUSD', 'MNTEUR', 'MNTUSD', 'MOGEUR', 'MOGUSD', 'MOONEUR', 'MOONUSD', 'MOVREUR', 'MOVRUSD', 'MPLEUR', 'MPLUSD', 'MSOLEUR', 'MSOLUSD', 'MULTIEUR', 'MULTIUSD', 'MVEUR', 'MVUSD', 'MXCEUR', 'MXCUSD', 'NANOETH', 'NANOEUR', 'NANOUSD', 'NANOXBT', 'NEAREUR', 'NEARUSD', 'NMREUR', 'NMRUSD', 'NODLEUR', 'NODLUSD', 'NOSEUR', 'NOSUSD', 'NTRNEUR', 'NTRNUSD', 'NYMEUR', 'NYMUSD', 'NYMXBT', 'OCEANEUR', 'OCEANGBP', 'OCEANUSD', 'OCEANXBT', 'OGNEUR', 'OGNUSD', 'OMGETH', 'OMGEUR', 'OMGJPY', 'OMGUSD', 'OMGXBT', 'ONDOEUR', 'ONDOUSD', 'OPEUR', 'OPUSD', 'ORCAEUR', 'ORCAUSD', 'OSMOEUR', 'OSMOUSD', 'OXTEUR', 'OXTUSD', 'OXYEUR', 'OXYUSD', 'PAXGETH', 'PAXGEUR', 'PAXGUSD', 'PAXGXBT', 'PDAEUR', 'PDAUSD', 'PENDLEEUR', 'PENDLEUSD', 'PEPEEUR', 'PEPEUSD', 'PERPEUR', 'PERPUSD', 'PHAEUR', 'PHAUSD', 'POLEUR', 'POLISEUR', 'POLISUSD', 'POLSEUR', 'POLSUSD', 'POLUSD', 'PONDEUR', 'PONDUSD', 'PORTALEUR', 'PORTALUSD', 'POWREUR', 'POWRUSD', 'PRCLEUR', 'PRCLUSD', 'PRIMEEUR', 'PRIMEUSD', 'PSTAKEEUR', 'PSTAKEUSD', 'PYTHEUR', 'PYTHUSD', 'PYUSDEUR', 'PYUSDUSD', 'QNTEUR', 'QNTUSD', 'QTUMETH', 'QTUMEUR', 'QTUMUSD', 'QTUMXBT', 'RADEUR', 'RADUSD', 'RAREEUR', 'RAREUSD', 'RARIEUR', 'RARIUSD', 'RARIXBT', 'RAYEUR', 'RAYUSD', 'RBCEUR', 'RBCUSD', 'RENDEREUR', 'RENDERUSD', 'RENEUR', 'RENUSD', 'REPV2ETH', 'REPV2EUR', 'REPV2USD', 'REPV2XBT', 'REQEUR', 'REQUSD', 'REZEUR', 'REZUSD', 'RLCEUR', 'RLCUSD', 'ROOKEUR', 'ROOKUSD', 'RPLEUR', 'RPLUSD', 'RUNEEUR', 'RUNEUSD', 'SAFEEUR', 'SAFEUSD', 'SAGAEUR', 'SAGAUSD', 'SAMOEUR', 'SAMOUSD', 'SANDEUR', 'SANDGBP', 'SANDUSD', 'SANDXBT', 'SBREUR', 'SBRUSD', 'SCEUR', 'SCRTEUR', 'SCRTUSD', 'SCUSD', 'SCXBT', 'SDNEUR', 'SDNUSD', 'SEIEUR', 'SEIUSD', 'SGBEUR', 'SGBUSD', 'SHIBEUR', 'SHIBUSD', 'SHIBUSDT', 'SNXETH', 'SNXEUR', 'SNXUSD', 'SNXXBT', 'SOLAUD', 'SOLETH', 'SOLEUR', 'SOLGBP', 'SOLUSD', 'SOLUSDT', 'SOLXBT', 'SPELLEUR', 'SPELLUSD', 'SRMEUR', 'SRMUSD', 'SRMXBT', 'STEPEUR', 'STEPUSD', 'STGEUR', 'STGUSD', 'STORJEUR', 'STORJUSD', 'STORJXBT', 'STRDEUR', 'STRDUSD', 'STRKEUR', 'STRKUSD', 'STXEUR', 'STXUSD', 'SUIEUR', 'SUIUSD', 'SUPEREUR', 'SUPERUSD', 'SUSHIEUR', 'SUSHIUSD', 'SYNEUR', 'SYNUSD', 'TAOEUR', 'TAOUSD', 'TBTCEUR', 'TBTCUSD', 'TBTCXBT', 'TEEREUR', 'TEERUSD', 'TEUR', 'TIAEUR', 'TIAUSD', 'TLMEUR', 'TLMUSD', 'TNSREUR', 'TNSRUSD', 'TOKEEUR', 'TOKEUSD', 'TRACEUR', 'TRACUSD', 'TREMPEUR', 'TREMPUSD', 'TRUEUR', 'TRUUSD', 'TRXETH', 'TRXEUR', 'TRXUSD', 'TRXXBT', 'TURBOEUR', 'TURBOUSD', 'TUSD', 'TUSDEUR', 'TUSDUSD', 'TVKEUR', 'TVKUSD', 'UMAEUR', 'UMAUSD', 'UNFIEUR', 'UNFIUSD', 'UNIETH', 'UNIEUR', 'UNIUSD', 'UNIXBT', 'USDCAUD', 'USDCCAD', 'USDCCHF', 'USDCEUR', 'USDCGBP', 'USDCHF', 'USDCUSD', 'USDCUSDT', 'USDTAUD', 'USDTCAD', 'USDTCHF', 'USDTEUR', 'USDTGBP', 'USDTJPY', 'USDTUSD', 'USTEUR', 'USTUSD', 'USTUSDC', 'USTUSDT', 'WAXLEUR', 'WAXLUSD', 'WBTCEUR', 'WBTCUSD', 'WBTCXBT', 'WENEUR', 'WENUSD', 'WEUR', 'WIFEUR', 'WIFUSD', 'WOOEUR', 'WOOUSD', 'WUSD', 'XBTAUD', 'XBTCHF', 'XBTDAI', 'XBTPYUSD', 'XBTUSDC', 'XBTUSDT', 'XCNEUR', 'XCNUSD', 'XDGAUD', 'XDGEUR', 'XDGGBP', 'XDGUSD', 'XDGUSDT', 'ETCETH', 'ETCXBT', 'ETCEUR', 'ETCUSD', 'ETHXBT', 'ETHCAD', 'ETHEUR', 'ETHGBP', 'ETHJPY', 'ETHUSD', 'LTCXBT', 'LTCEUR', 'LTCJPY', 'LTCUSD', 'MLNXBT', 'MLNEUR', 'MLNUSD', 'XMRUSDT', 'REPEUR', 'REPUSD', 'XRPAUD', 'XRPETH', 'XRPGBP', 'XRPUSDT', 'XRTEUR', 'XRTUSD', 'XTZEUR', 'XTZUSD', 'XTZUSDT', 'XTZXBT', 'XBTCAD', 'XBTEUR', 'XBTGBP', 'XBTJPY', 'XBTUSD', 'XDGXBT', 'XLMXBT', 'XLMEUR', 'XLMGBP', 'XLMUSD', 'XMRXBT', 'XMREUR', 'XMRUSD', 'XRPXBT', 'XRPCAD', 'XRPEUR', 'XRPUSD', 'ZECXBT', 'ZECEUR', 'ZECUSD', 'YFIEUR', 'YFIUSD', 'YGGEUR', 'YGGUSD', 'ZETAEUR', 'ZETAUSD', 'EURUSD', 'ZEUSEUR', 'ZEUSUSD', 'ZEXEUR', 'ZEXUSD', 'GBPUSD', 'ZKEUR', 'ZKUSD', 'ZROEUR', 'ZROUSD', 'ZRXEUR', 'ZRXUSD', 'ZRXXBT', 'USDCAD', 'USDJPY']\n"
     ]
    },
    {
     "data": {
      "application/vnd.plotly.v1+json": {
       "config": {
        "plotlyServerURL": "https://plot.ly"
       },
       "data": [
        {
         "labels": [
          "ATOM.F",
          "MSOL",
          "SOL.F",
          "ZGBP"
         ],
         "type": "pie",
         "values": [
          "5.20928100",
          "0.6047700000",
          "1.1884947880",
          "3.8113"
         ]
        }
       ],
       "layout": {
        "template": {
         "data": {
          "bar": [
           {
            "error_x": {
             "color": "#2a3f5f"
            },
            "error_y": {
             "color": "#2a3f5f"
            },
            "marker": {
             "line": {
              "color": "#E5ECF6",
              "width": 0.5
             },
             "pattern": {
              "fillmode": "overlay",
              "size": 10,
              "solidity": 0.2
             }
            },
            "type": "bar"
           }
          ],
          "barpolar": [
           {
            "marker": {
             "line": {
              "color": "#E5ECF6",
              "width": 0.5
             },
             "pattern": {
              "fillmode": "overlay",
              "size": 10,
              "solidity": 0.2
             }
            },
            "type": "barpolar"
           }
          ],
          "carpet": [
           {
            "aaxis": {
             "endlinecolor": "#2a3f5f",
             "gridcolor": "white",
             "linecolor": "white",
             "minorgridcolor": "white",
             "startlinecolor": "#2a3f5f"
            },
            "baxis": {
             "endlinecolor": "#2a3f5f",
             "gridcolor": "white",
             "linecolor": "white",
             "minorgridcolor": "white",
             "startlinecolor": "#2a3f5f"
            },
            "type": "carpet"
           }
          ],
          "choropleth": [
           {
            "colorbar": {
             "outlinewidth": 0,
             "ticks": ""
            },
            "type": "choropleth"
           }
          ],
          "contour": [
           {
            "colorbar": {
             "outlinewidth": 0,
             "ticks": ""
            },
            "colorscale": [
             [
              0,
              "#0d0887"
             ],
             [
              0.1111111111111111,
              "#46039f"
             ],
             [
              0.2222222222222222,
              "#7201a8"
             ],
             [
              0.3333333333333333,
              "#9c179e"
             ],
             [
              0.4444444444444444,
              "#bd3786"
             ],
             [
              0.5555555555555556,
              "#d8576b"
             ],
             [
              0.6666666666666666,
              "#ed7953"
             ],
             [
              0.7777777777777778,
              "#fb9f3a"
             ],
             [
              0.8888888888888888,
              "#fdca26"
             ],
             [
              1,
              "#f0f921"
             ]
            ],
            "type": "contour"
           }
          ],
          "contourcarpet": [
           {
            "colorbar": {
             "outlinewidth": 0,
             "ticks": ""
            },
            "type": "contourcarpet"
           }
          ],
          "heatmap": [
           {
            "colorbar": {
             "outlinewidth": 0,
             "ticks": ""
            },
            "colorscale": [
             [
              0,
              "#0d0887"
             ],
             [
              0.1111111111111111,
              "#46039f"
             ],
             [
              0.2222222222222222,
              "#7201a8"
             ],
             [
              0.3333333333333333,
              "#9c179e"
             ],
             [
              0.4444444444444444,
              "#bd3786"
             ],
             [
              0.5555555555555556,
              "#d8576b"
             ],
             [
              0.6666666666666666,
              "#ed7953"
             ],
             [
              0.7777777777777778,
              "#fb9f3a"
             ],
             [
              0.8888888888888888,
              "#fdca26"
             ],
             [
              1,
              "#f0f921"
             ]
            ],
            "type": "heatmap"
           }
          ],
          "heatmapgl": [
           {
            "colorbar": {
             "outlinewidth": 0,
             "ticks": ""
            },
            "colorscale": [
             [
              0,
              "#0d0887"
             ],
             [
              0.1111111111111111,
              "#46039f"
             ],
             [
              0.2222222222222222,
              "#7201a8"
             ],
             [
              0.3333333333333333,
              "#9c179e"
             ],
             [
              0.4444444444444444,
              "#bd3786"
             ],
             [
              0.5555555555555556,
              "#d8576b"
             ],
             [
              0.6666666666666666,
              "#ed7953"
             ],
             [
              0.7777777777777778,
              "#fb9f3a"
             ],
             [
              0.8888888888888888,
              "#fdca26"
             ],
             [
              1,
              "#f0f921"
             ]
            ],
            "type": "heatmapgl"
           }
          ],
          "histogram": [
           {
            "marker": {
             "pattern": {
              "fillmode": "overlay",
              "size": 10,
              "solidity": 0.2
             }
            },
            "type": "histogram"
           }
          ],
          "histogram2d": [
           {
            "colorbar": {
             "outlinewidth": 0,
             "ticks": ""
            },
            "colorscale": [
             [
              0,
              "#0d0887"
             ],
             [
              0.1111111111111111,
              "#46039f"
             ],
             [
              0.2222222222222222,
              "#7201a8"
             ],
             [
              0.3333333333333333,
              "#9c179e"
             ],
             [
              0.4444444444444444,
              "#bd3786"
             ],
             [
              0.5555555555555556,
              "#d8576b"
             ],
             [
              0.6666666666666666,
              "#ed7953"
             ],
             [
              0.7777777777777778,
              "#fb9f3a"
             ],
             [
              0.8888888888888888,
              "#fdca26"
             ],
             [
              1,
              "#f0f921"
             ]
            ],
            "type": "histogram2d"
           }
          ],
          "histogram2dcontour": [
           {
            "colorbar": {
             "outlinewidth": 0,
             "ticks": ""
            },
            "colorscale": [
             [
              0,
              "#0d0887"
             ],
             [
              0.1111111111111111,
              "#46039f"
             ],
             [
              0.2222222222222222,
              "#7201a8"
             ],
             [
              0.3333333333333333,
              "#9c179e"
             ],
             [
              0.4444444444444444,
              "#bd3786"
             ],
             [
              0.5555555555555556,
              "#d8576b"
             ],
             [
              0.6666666666666666,
              "#ed7953"
             ],
             [
              0.7777777777777778,
              "#fb9f3a"
             ],
             [
              0.8888888888888888,
              "#fdca26"
             ],
             [
              1,
              "#f0f921"
             ]
            ],
            "type": "histogram2dcontour"
           }
          ],
          "mesh3d": [
           {
            "colorbar": {
             "outlinewidth": 0,
             "ticks": ""
            },
            "type": "mesh3d"
           }
          ],
          "parcoords": [
           {
            "line": {
             "colorbar": {
              "outlinewidth": 0,
              "ticks": ""
             }
            },
            "type": "parcoords"
           }
          ],
          "pie": [
           {
            "automargin": true,
            "type": "pie"
           }
          ],
          "scatter": [
           {
            "fillpattern": {
             "fillmode": "overlay",
             "size": 10,
             "solidity": 0.2
            },
            "type": "scatter"
           }
          ],
          "scatter3d": [
           {
            "line": {
             "colorbar": {
              "outlinewidth": 0,
              "ticks": ""
             }
            },
            "marker": {
             "colorbar": {
              "outlinewidth": 0,
              "ticks": ""
             }
            },
            "type": "scatter3d"
           }
          ],
          "scattercarpet": [
           {
            "marker": {
             "colorbar": {
              "outlinewidth": 0,
              "ticks": ""
             }
            },
            "type": "scattercarpet"
           }
          ],
          "scattergeo": [
           {
            "marker": {
             "colorbar": {
              "outlinewidth": 0,
              "ticks": ""
             }
            },
            "type": "scattergeo"
           }
          ],
          "scattergl": [
           {
            "marker": {
             "colorbar": {
              "outlinewidth": 0,
              "ticks": ""
             }
            },
            "type": "scattergl"
           }
          ],
          "scattermapbox": [
           {
            "marker": {
             "colorbar": {
              "outlinewidth": 0,
              "ticks": ""
             }
            },
            "type": "scattermapbox"
           }
          ],
          "scatterpolar": [
           {
            "marker": {
             "colorbar": {
              "outlinewidth": 0,
              "ticks": ""
             }
            },
            "type": "scatterpolar"
           }
          ],
          "scatterpolargl": [
           {
            "marker": {
             "colorbar": {
              "outlinewidth": 0,
              "ticks": ""
             }
            },
            "type": "scatterpolargl"
           }
          ],
          "scatterternary": [
           {
            "marker": {
             "colorbar": {
              "outlinewidth": 0,
              "ticks": ""
             }
            },
            "type": "scatterternary"
           }
          ],
          "surface": [
           {
            "colorbar": {
             "outlinewidth": 0,
             "ticks": ""
            },
            "colorscale": [
             [
              0,
              "#0d0887"
             ],
             [
              0.1111111111111111,
              "#46039f"
             ],
             [
              0.2222222222222222,
              "#7201a8"
             ],
             [
              0.3333333333333333,
              "#9c179e"
             ],
             [
              0.4444444444444444,
              "#bd3786"
             ],
             [
              0.5555555555555556,
              "#d8576b"
             ],
             [
              0.6666666666666666,
              "#ed7953"
             ],
             [
              0.7777777777777778,
              "#fb9f3a"
             ],
             [
              0.8888888888888888,
              "#fdca26"
             ],
             [
              1,
              "#f0f921"
             ]
            ],
            "type": "surface"
           }
          ],
          "table": [
           {
            "cells": {
             "fill": {
              "color": "#EBF0F8"
             },
             "line": {
              "color": "white"
             }
            },
            "header": {
             "fill": {
              "color": "#C8D4E3"
             },
             "line": {
              "color": "white"
             }
            },
            "type": "table"
           }
          ]
         },
         "layout": {
          "annotationdefaults": {
           "arrowcolor": "#2a3f5f",
           "arrowhead": 0,
           "arrowwidth": 1
          },
          "autotypenumbers": "strict",
          "coloraxis": {
           "colorbar": {
            "outlinewidth": 0,
            "ticks": ""
           }
          },
          "colorscale": {
           "diverging": [
            [
             0,
             "#8e0152"
            ],
            [
             0.1,
             "#c51b7d"
            ],
            [
             0.2,
             "#de77ae"
            ],
            [
             0.3,
             "#f1b6da"
            ],
            [
             0.4,
             "#fde0ef"
            ],
            [
             0.5,
             "#f7f7f7"
            ],
            [
             0.6,
             "#e6f5d0"
            ],
            [
             0.7,
             "#b8e186"
            ],
            [
             0.8,
             "#7fbc41"
            ],
            [
             0.9,
             "#4d9221"
            ],
            [
             1,
             "#276419"
            ]
           ],
           "sequential": [
            [
             0,
             "#0d0887"
            ],
            [
             0.1111111111111111,
             "#46039f"
            ],
            [
             0.2222222222222222,
             "#7201a8"
            ],
            [
             0.3333333333333333,
             "#9c179e"
            ],
            [
             0.4444444444444444,
             "#bd3786"
            ],
            [
             0.5555555555555556,
             "#d8576b"
            ],
            [
             0.6666666666666666,
             "#ed7953"
            ],
            [
             0.7777777777777778,
             "#fb9f3a"
            ],
            [
             0.8888888888888888,
             "#fdca26"
            ],
            [
             1,
             "#f0f921"
            ]
           ],
           "sequentialminus": [
            [
             0,
             "#0d0887"
            ],
            [
             0.1111111111111111,
             "#46039f"
            ],
            [
             0.2222222222222222,
             "#7201a8"
            ],
            [
             0.3333333333333333,
             "#9c179e"
            ],
            [
             0.4444444444444444,
             "#bd3786"
            ],
            [
             0.5555555555555556,
             "#d8576b"
            ],
            [
             0.6666666666666666,
             "#ed7953"
            ],
            [
             0.7777777777777778,
             "#fb9f3a"
            ],
            [
             0.8888888888888888,
             "#fdca26"
            ],
            [
             1,
             "#f0f921"
            ]
           ]
          },
          "colorway": [
           "#636efa",
           "#EF553B",
           "#00cc96",
           "#ab63fa",
           "#FFA15A",
           "#19d3f3",
           "#FF6692",
           "#B6E880",
           "#FF97FF",
           "#FECB52"
          ],
          "font": {
           "color": "#2a3f5f"
          },
          "geo": {
           "bgcolor": "white",
           "lakecolor": "white",
           "landcolor": "#E5ECF6",
           "showlakes": true,
           "showland": true,
           "subunitcolor": "white"
          },
          "hoverlabel": {
           "align": "left"
          },
          "hovermode": "closest",
          "mapbox": {
           "style": "light"
          },
          "paper_bgcolor": "white",
          "plot_bgcolor": "#E5ECF6",
          "polar": {
           "angularaxis": {
            "gridcolor": "white",
            "linecolor": "white",
            "ticks": ""
           },
           "bgcolor": "#E5ECF6",
           "radialaxis": {
            "gridcolor": "white",
            "linecolor": "white",
            "ticks": ""
           }
          },
          "scene": {
           "xaxis": {
            "backgroundcolor": "#E5ECF6",
            "gridcolor": "white",
            "gridwidth": 2,
            "linecolor": "white",
            "showbackground": true,
            "ticks": "",
            "zerolinecolor": "white"
           },
           "yaxis": {
            "backgroundcolor": "#E5ECF6",
            "gridcolor": "white",
            "gridwidth": 2,
            "linecolor": "white",
            "showbackground": true,
            "ticks": "",
            "zerolinecolor": "white"
           },
           "zaxis": {
            "backgroundcolor": "#E5ECF6",
            "gridcolor": "white",
            "gridwidth": 2,
            "linecolor": "white",
            "showbackground": true,
            "ticks": "",
            "zerolinecolor": "white"
           }
          },
          "shapedefaults": {
           "line": {
            "color": "#2a3f5f"
           }
          },
          "ternary": {
           "aaxis": {
            "gridcolor": "white",
            "linecolor": "white",
            "ticks": ""
           },
           "baxis": {
            "gridcolor": "white",
            "linecolor": "white",
            "ticks": ""
           },
           "bgcolor": "#E5ECF6",
           "caxis": {
            "gridcolor": "white",
            "linecolor": "white",
            "ticks": ""
           }
          },
          "title": {
           "x": 0.05
          },
          "xaxis": {
           "automargin": true,
           "gridcolor": "white",
           "linecolor": "white",
           "ticks": "",
           "title": {
            "standoff": 15
           },
           "zerolinecolor": "white",
           "zerolinewidth": 2
          },
          "yaxis": {
           "automargin": true,
           "gridcolor": "white",
           "linecolor": "white",
           "ticks": "",
           "title": {
            "standoff": 15
           },
           "zerolinecolor": "white",
           "zerolinewidth": 2
          }
         }
        }
       }
      }
     },
     "metadata": {},
     "output_type": "display_data"
    }
   ],
   "source": [
    "import config as cfg\n",
    "import requests\n",
    "import time\n",
    "import urllib.parse\n",
    "import hashlib\n",
    "import hmac\n",
    "import base64\n",
    "import json\n",
    "import plotly.graph_objects as go\n",
    "\n",
    "\n",
    "api_url = \"https://api.kraken.com\"\n",
    "\n",
    "api_endpoints = {\n",
    "    'Assets': '/0/public/Assets',\n",
    "    'AssetPairs': '/0/public/AssetPairs',\n",
    "    'Ticker': '/0/public/Ticker',\n",
    "    'OHLC': '/0/public/OHLC',\n",
    "\n",
    "    'Balance': '/0/private/Balance',\n",
    "    'ExtendedBalance': '/0/private/BalanceEx',\n",
    "    'Ledgers': '/0/private/Ledgers',\n",
    "    'QueryLedgers': '/0/private/QueryLedgers',\n",
    "    'TradeVolume': '/0/private/TradeVolume',\n",
    "}\n",
    "\n",
    "# Function to get Kraken signature\n",
    "def get_kraken_signature(urlpath, data, secret):\n",
    "    postdata = urllib.parse.urlencode(data)\n",
    "    encoded = (str(data['nonce']) + postdata).encode()\n",
    "    message = urlpath.encode() + hashlib.sha256(encoded).digest()\n",
    "\n",
    "    mac = hmac.new(base64.b64decode(secret), message, hashlib.sha512)\n",
    "    sigdigest = base64.b64encode(mac.digest())\n",
    "    return sigdigest.decode() \n",
    "\n",
    "# Function to make Kraken API request\n",
    "def kraken_request(uri_path, data, api_key, api_sec, headers=None):\n",
    "    if headers is None:\n",
    "        headers = {}\n",
    "\n",
    "    headers['API-Key'] = api_key\n",
    "    headers['API-Sign'] = get_kraken_signature(uri_path, data, api_sec)\n",
    "    req = requests.post((api_url + uri_path), headers=headers, data=data)\n",
    "    return req\n",
    "\n",
    "#Function to make more non-trivial Kraken API get request\n",
    "def kraken_get_request(uri_path, data=None, headers=None):\n",
    "    if headers is None:\n",
    "        headers = {\n",
    "            'Accept': 'application/json'\n",
    "        }\n",
    "    \n",
    "    headers.update(headers)\n",
    "    req = requests.get((api_url + uri_path), headers=headers, data=data)\n",
    "    return req\n",
    "\n",
    "api_key = cfg.api_key\n",
    "api_sec = cfg.api_priv\n",
    "\n",
    "# Function to generate a nonce\n",
    "def generate_nonce():\n",
    "    return str(int(1000 * time.time()))\n",
    "\n",
    "\n",
    "# Function to get the balance of all assets in the Kraken account with the given API keys\n",
    "def grab_ext_bal():\n",
    "    # Construct the Kraken API request and get the External Balance Information\n",
    "    resp = kraken_request(api_endpoints['ExtendedBalance'], {\"nonce\": generate_nonce(),}, api_key, api_sec).json()['result']\n",
    "    \n",
    "    balanceDict = {}\n",
    "    # Extract the balance of each non zero asset\n",
    "    for asset in resp:\n",
    "        if float(resp[asset]['balance']) == 0:\n",
    "            continue\n",
    "        balance = resp[asset]['balance']\n",
    "        balanceDict[asset] = balance\n",
    "\n",
    "    return balanceDict\n",
    "balance = grab_ext_bal()\n",
    "print(balance)\n",
    "\n",
    "def grab_all_assets():\n",
    "    # Grab all asset pair names from the Kraken API\n",
    "    # assetPairs = requests.get(api_url + '/0/public/AssetPairs').json()\n",
    "    # assetPairs = assetPairs['result']\n",
    "    # altNames = [details['altname'] for details in assetPairs.values()]\n",
    "    # altNames = list(assetPairs.keys())\n",
    "    # return altNames\n",
    "\n",
    "    # Construct the Kraken API request and get all asset pairs from the Kraken API\n",
    "    assetPairs = kraken_get_request(api_endpoints['AssetPairs']).json()['result']\n",
    "    \n",
    "    # Extract 'altname' for each asset pair\n",
    "    altNames = [details['altname'] for details in assetPairs.values()]\n",
    "    \n",
    "    print(\"altNames: \")\n",
    "    print(altNames)\n",
    "    return altNames\n",
    "\n",
    "assetPairs = grab_all_assets()\n",
    "\n",
    "# Extract labels and values for pie chart in plotly from the balance dictionary\n",
    "labels = list(balance.keys())\n",
    "values = list(balance.values())\n",
    "\n",
    "# Create a pie chart using plotly\n",
    "fig = go.Figure(data=[go.Pie(labels=labels, values=values)])\n",
    "fig.show()\n",
    "\n",
    "\n",
    "# sns.set_theme(style='darkgrid')\n",
    "\n",
    "# # Define seaborn color palette\n",
    "# sns.set_palette('light:#5A9', n_colors=len(balanceDict))\n",
    "\n",
    "\n",
    "\n",
    "# # Extract labels and values\n",
    "# labels = list(balanceDict.keys())\n",
    "# values = list(balanceDict.values())\n",
    "\n",
    "# fig = plt.figure(figsize=(16, 16), dpi=1600)\n",
    "\n",
    "# # Initialize 9 subplots 3x3\n",
    "# fig, ax = plt.subplots(3, 3 , figsize=(12, 12), dpi=1600)\n",
    "# # Plot pie chart\n",
    "\n",
    "# ax[1,1].pie(values, labels=labels, autopct='%1.1f%%')\n",
    "# plt.title('Asset Distribution')\n",
    "# plt.show()\n",
    "\n"
   ]
  },
  {
   "cell_type": "code",
   "execution_count": 7,
   "metadata": {},
   "outputs": [
    {
     "name": "stdout",
     "output_type": "stream",
     "text": [
      "altNames: \n",
      "['1INCHEUR', '1INCHUSD', 'AAVEETH', 'AAVEEUR', 'AAVEGBP', 'AAVEUSD', 'AAVEXBT', 'ACAEUR', 'ACAUSD', 'ACHEUR', 'ACHUSD', 'ADAAUD', 'ADAETH', 'ADAEUR', 'ADAGBP', 'ADAUSD', 'ADAUSDT', 'ADAXBT', 'ADXEUR', 'ADXUSD', 'AEVOEUR', 'AEVOUSD', 'AGLDEUR', 'AGLDUSD', 'AIREUR', 'AIRUSD', 'AKTEUR', 'AKTUSD', 'ALCXEUR', 'ALCXUSD', 'ALGOETH', 'ALGOEUR', 'ALGOGBP', 'ALGOUSD', 'ALGOUSDT', 'ALGOXBT', 'ALICEEUR', 'ALICEUSD', 'ALPHAEUR', 'ALPHAUSD', 'ALTEUR', 'ALTUSD', 'ANKREUR', 'ANKRUSD', 'ANKRXBT', 'ANTETH', 'ANTEUR', 'ANTUSD', 'ANTXBT', 'APEEUR', 'APEUSD', 'APEUSDT', 'API3EUR', 'API3USD', 'APTEUR', 'APTUSD', 'ARBEUR', 'ARBUSD', 'ARKMEUR', 'ARKMUSD', 'ARPAEUR', 'ARPAUSD', 'ASTREUR', 'ASTRUSD', 'ATLASEUR', 'ATLASUSD', 'ATOMETH', 'ATOMEUR', 'ATOMGBP', 'ATOMUSD', 'ATOMUSDT', 'ATOMXBT', 'AUCTIONEUR', 'AUCTIONUSD', 'AUDIOEUR', 'AUDIOUSD', 'AUDJPY', 'AUDUSD', 'AVAXEUR', 'AVAXUSD', 'AVAXUSDT', 'AXSEUR', 'AXSUSD', 'BADGEREUR', 'BADGERUSD', 'BALEUR', 'BALUSD', 'BALXBT', 'BANDEUR', 'BANDUSD', 'BATETH', 'BATEUR', 'BATUSD', 'BATXBT', 'BCHAUD', 'BCHETH', 'BCHEUR', 'BCHGBP', 'BCHJPY', 'BCHUSD', 'BCHUSDT', 'BCHXBT', 'BEAMEUR', 'BEAMUSD', 'BICOEUR', 'BICOUSD', 'BIGTIMEEUR', 'BIGTIMEUSD', 'BITEUR', 'BITUSD', 'BLUREUR', 'BLURUSD', 'BLZEUR', 'BLZUSD', 'BNCEUR', 'BNCUSD', 'BNTEUR', 'BNTUSD', 'BOBAEUR', 'BOBAUSD', 'BODENEUR', 'BODENUSD', 'BONDEUR', 'BONDUSD', 'BONKEUR', 'BONKUSD', 'BRICKEUR', 'BRICKUSD', 'BSXEUR', 'BSXUSD', 'BTTEUR', 'BTTUSD', 'C98EUR', 'C98USD', 'CELREUR', 'CELRUSD', 'CFGEUR', 'CFGUSD', 'CHREUR', 'CHRUSD', 'CHZEUR', 'CHZUSD', 'CLOUDEUR', 'CLOUDUSD', 'COMPEUR', 'COMPUSD', 'COMPXBT', 'COTIEUR', 'COTIUSD', 'CPOOLEUR', 'CPOOLUSD', 'CQTEUR', 'CQTUSD', 'CRVEUR', 'CRVUSD', 'CRVXBT', 'CSMEUR', 'CSMUSD', 'CTSIEUR', 'CTSIUSD', 'CVCEUR', 'CVCUSD', 'CVXEUR', 'CVXUSD', 'CXTEUR', 'CXTUSD', 'DAIEUR', 'DAIUSD', 'DAIUSDT', 'DASHEUR', 'DASHUSD', 'DASHXBT', 'DENTEUR', 'DENTUSD', 'DOTETH', 'DOTEUR', 'DOTGBP', 'DOTJPY', 'DOTUSD', 'DOTUSDT', 'DOTXBT', 'DRIFTEUR', 'DRIFTUSD', 'DYDXEUR', 'DYDXUSD', 'DYMEUR', 'DYMUSD', 'EGLDEUR', 'EGLDUSD', 'ENAEUR', 'ENAUSD', 'ENJEUR', 'ENJGBP', 'ENJJPY', 'ENJUSD', 'ENJXBT', 'ENSEUR', 'ENSUSD', 'EOSETH', 'EOSEUR', 'EOSUSD', 'EOSUSDT', 'EOSXBT', 'ETHAUD', 'ETHCHF', 'ETHDAI', 'ETHFIEUR', 'ETHFIUSD', 'ETHPYUSD', 'ETHUSDC', 'ETHUSDT', 'ETHWETH', 'ETHWEUR', 'ETHWUSD', 'EULEUR', 'EULUSD', 'EURAUD', 'EURCAD', 'EURCHF', 'EURGBP', 'EURJPY', 'EURTEUR', 'EURTUSD', 'EURTUSDT', 'EWTEUR', 'EWTGBP', 'EWTUSD', 'EWTXBT', 'FARMEUR', 'FARMUSD', 'FETEUR', 'FETUSD', 'FIDAEUR', 'FIDAUSD', 'FILETH', 'FILEUR', 'FILGBP', 'FILUSD', 'FILXBT', 'FISEUR', 'FISUSD', 'FLOKIEUR', 'FLOKIUSD', 'FLOWETH', 'FLOWEUR', 'FLOWUSD', 'FLOWXBT', 'FLREUR', 'FLRUSD', 'FORTHEUR', 'FORTHUSD', 'FTMEUR', 'FTMUSD', 'FXSEUR', 'FXSUSD', 'GALAEUR', 'GALAUSD', 'GALEUR', 'GALUSD', 'GARIEUR', 'GARIUSD', 'GHSTEUR', 'GHSTUSD', 'GHSTXBT', 'GLMREUR', 'GLMRUSD', 'GMTEUR', 'GMTUSD', 'GMXEUR', 'GMXUSD', 'GNOEUR', 'GNOUSD', 'GRTEUR', 'GRTGBP', 'GRTUSD', 'GRTXBT', 'GSTEUR', 'GSTUSD', 'GTCEUR', 'GTCUSD', 'HDXEUR', 'HDXUSD', 'HFTEUR', 'HFTUSD', 'HNTEUR', 'HNTUSD', 'HONEYEUR', 'HONEYUSD', 'ICPEUR', 'ICPUSD', 'ICXETH', 'ICXEUR', 'ICXUSD', 'ICXXBT', 'IDEXEUR', 'IDEXUSD', 'IMXEUR', 'IMXUSD', 'INJEUR', 'INJUSD', 'INTREUR', 'INTRUSD', 'JASMYEUR', 'JASMYUSD', 'JTOEUR', 'JTOUSD', 'JUNOEUR', 'JUNOUSD', 'JUPEUR', 'JUPUSD', 'KAREUR', 'KARUSD', 'KAVAETH', 'KAVAEUR', 'KAVAUSD', 'KAVAXBT', 'KEEPEUR', 'KEEPUSD', 'KEEPXBT', 'KEYEUR', 'KEYUSD', 'KILTEUR', 'KILTUSD', 'KINEUR', 'KINTEUR', 'KINTUSD', 'KINUSD', 'KMNOEUR', 'KMNOUSD', 'KNCETH', 'KNCEUR', 'KNCUSD', 'KP3REUR', 'KP3RUSD', 'KSMDOT', 'KSMETH', 'KSMEUR', 'KSMGBP', 'KSMUSD', 'KSMXBT', 'KUJIEUR', 'KUJIUSD', 'L3EUR', 'L3USD', 'LCXEUR', 'LCXUSD', 'LDOEUR', 'LDOUSD', 'LINKAUD', 'LINKETH', 'LINKEUR', 'LINKGBP', 'LINKJPY', 'LINKUSD', 'LINKUSDT', 'LINKXBT', 'LITEUR', 'LITUSD', 'LMWREUR', 'LMWRUSD', 'LPTEUR', 'LPTGBP', 'LPTUSD', 'LPTXBT', 'LRCEUR', 'LRCUSD', 'LSKEUR', 'LSKUSD', 'LTCAUD', 'LTCETH', 'LTCGBP', 'LTCUSDT', 'LUNA2EUR', 'LUNA2USD', 'LUNAEUR', 'LUNAUSD', 'MANAEUR', 'MANAUSD', 'MANAUSDT', 'MANAXBT', 'MASKEUR', 'MASKUSD', 'MATICEUR', 'MATICGBP', 'MATICUSD', 'MATICUSDT', 'MATICXBT', 'MCEUR', 'MCUSD', 'MEMEEUR', 'MEMEUSD', 'MINAEUR', 'MINAGBP', 'MINAUSD', 'MINAXBT', 'MIREUR', 'MIRUSD', 'MKREUR', 'MKRUSD', 'MKRXBT', 'MNGOEUR', 'MNGOUSD', 'MNTEUR', 'MNTUSD', 'MOGEUR', 'MOGUSD', 'MOONEUR', 'MOONUSD', 'MOVREUR', 'MOVRUSD', 'MPLEUR', 'MPLUSD', 'MSOLEUR', 'MSOLUSD', 'MULTIEUR', 'MULTIUSD', 'MVEUR', 'MVUSD', 'MXCEUR', 'MXCUSD', 'NANOETH', 'NANOEUR', 'NANOUSD', 'NANOXBT', 'NEAREUR', 'NEARUSD', 'NMREUR', 'NMRUSD', 'NODLEUR', 'NODLUSD', 'NOSEUR', 'NOSUSD', 'NTRNEUR', 'NTRNUSD', 'NYMEUR', 'NYMUSD', 'NYMXBT', 'OCEANEUR', 'OCEANGBP', 'OCEANUSD', 'OCEANXBT', 'OGNEUR', 'OGNUSD', 'OMGETH', 'OMGEUR', 'OMGJPY', 'OMGUSD', 'OMGXBT', 'ONDOEUR', 'ONDOUSD', 'OPEUR', 'OPUSD', 'ORCAEUR', 'ORCAUSD', 'OSMOEUR', 'OSMOUSD', 'OXTEUR', 'OXTUSD', 'OXYEUR', 'OXYUSD', 'PAXGETH', 'PAXGEUR', 'PAXGUSD', 'PAXGXBT', 'PDAEUR', 'PDAUSD', 'PENDLEEUR', 'PENDLEUSD', 'PEPEEUR', 'PEPEUSD', 'PERPEUR', 'PERPUSD', 'PHAEUR', 'PHAUSD', 'POLEUR', 'POLISEUR', 'POLISUSD', 'POLSEUR', 'POLSUSD', 'POLUSD', 'PONDEUR', 'PONDUSD', 'PORTALEUR', 'PORTALUSD', 'POWREUR', 'POWRUSD', 'PRCLEUR', 'PRCLUSD', 'PRIMEEUR', 'PRIMEUSD', 'PSTAKEEUR', 'PSTAKEUSD', 'PYTHEUR', 'PYTHUSD', 'PYUSDEUR', 'PYUSDUSD', 'QNTEUR', 'QNTUSD', 'QTUMETH', 'QTUMEUR', 'QTUMUSD', 'QTUMXBT', 'RADEUR', 'RADUSD', 'RAREEUR', 'RAREUSD', 'RARIEUR', 'RARIUSD', 'RARIXBT', 'RAYEUR', 'RAYUSD', 'RBCEUR', 'RBCUSD', 'RENDEREUR', 'RENDERUSD', 'RENEUR', 'RENUSD', 'REPV2ETH', 'REPV2EUR', 'REPV2USD', 'REPV2XBT', 'REQEUR', 'REQUSD', 'REZEUR', 'REZUSD', 'RLCEUR', 'RLCUSD', 'ROOKEUR', 'ROOKUSD', 'RPLEUR', 'RPLUSD', 'RUNEEUR', 'RUNEUSD', 'SAFEEUR', 'SAFEUSD', 'SAGAEUR', 'SAGAUSD', 'SAMOEUR', 'SAMOUSD', 'SANDEUR', 'SANDGBP', 'SANDUSD', 'SANDXBT', 'SBREUR', 'SBRUSD', 'SCEUR', 'SCRTEUR', 'SCRTUSD', 'SCUSD', 'SCXBT', 'SDNEUR', 'SDNUSD', 'SEIEUR', 'SEIUSD', 'SGBEUR', 'SGBUSD', 'SHIBEUR', 'SHIBUSD', 'SHIBUSDT', 'SNXETH', 'SNXEUR', 'SNXUSD', 'SNXXBT', 'SOLAUD', 'SOLETH', 'SOLEUR', 'SOLGBP', 'SOLUSD', 'SOLUSDT', 'SOLXBT', 'SPELLEUR', 'SPELLUSD', 'SRMEUR', 'SRMUSD', 'SRMXBT', 'STEPEUR', 'STEPUSD', 'STGEUR', 'STGUSD', 'STORJEUR', 'STORJUSD', 'STORJXBT', 'STRDEUR', 'STRDUSD', 'STRKEUR', 'STRKUSD', 'STXEUR', 'STXUSD', 'SUIEUR', 'SUIUSD', 'SUPEREUR', 'SUPERUSD', 'SUSHIEUR', 'SUSHIUSD', 'SYNEUR', 'SYNUSD', 'TAOEUR', 'TAOUSD', 'TBTCEUR', 'TBTCUSD', 'TBTCXBT', 'TEEREUR', 'TEERUSD', 'TEUR', 'TIAEUR', 'TIAUSD', 'TLMEUR', 'TLMUSD', 'TNSREUR', 'TNSRUSD', 'TOKEEUR', 'TOKEUSD', 'TRACEUR', 'TRACUSD', 'TREMPEUR', 'TREMPUSD', 'TRUEUR', 'TRUUSD', 'TRXETH', 'TRXEUR', 'TRXUSD', 'TRXXBT', 'TURBOEUR', 'TURBOUSD', 'TUSD', 'TUSDEUR', 'TUSDUSD', 'TVKEUR', 'TVKUSD', 'UMAEUR', 'UMAUSD', 'UNFIEUR', 'UNFIUSD', 'UNIETH', 'UNIEUR', 'UNIUSD', 'UNIXBT', 'USDCAUD', 'USDCCAD', 'USDCCHF', 'USDCEUR', 'USDCGBP', 'USDCHF', 'USDCUSD', 'USDCUSDT', 'USDTAUD', 'USDTCAD', 'USDTCHF', 'USDTEUR', 'USDTGBP', 'USDTJPY', 'USDTUSD', 'USTEUR', 'USTUSD', 'USTUSDC', 'USTUSDT', 'WAXLEUR', 'WAXLUSD', 'WBTCEUR', 'WBTCUSD', 'WBTCXBT', 'WENEUR', 'WENUSD', 'WEUR', 'WIFEUR', 'WIFUSD', 'WOOEUR', 'WOOUSD', 'WUSD', 'XBTAUD', 'XBTCHF', 'XBTDAI', 'XBTPYUSD', 'XBTUSDC', 'XBTUSDT', 'XCNEUR', 'XCNUSD', 'XDGAUD', 'XDGEUR', 'XDGGBP', 'XDGUSD', 'XDGUSDT', 'ETCETH', 'ETCXBT', 'ETCEUR', 'ETCUSD', 'ETHXBT', 'ETHCAD', 'ETHEUR', 'ETHGBP', 'ETHJPY', 'ETHUSD', 'LTCXBT', 'LTCEUR', 'LTCJPY', 'LTCUSD', 'MLNXBT', 'MLNEUR', 'MLNUSD', 'XMRUSDT', 'REPEUR', 'REPUSD', 'XRPAUD', 'XRPETH', 'XRPGBP', 'XRPUSDT', 'XRTEUR', 'XRTUSD', 'XTZEUR', 'XTZUSD', 'XTZUSDT', 'XTZXBT', 'XBTCAD', 'XBTEUR', 'XBTGBP', 'XBTJPY', 'XBTUSD', 'XDGXBT', 'XLMXBT', 'XLMEUR', 'XLMGBP', 'XLMUSD', 'XMRXBT', 'XMREUR', 'XMRUSD', 'XRPXBT', 'XRPCAD', 'XRPEUR', 'XRPUSD', 'ZECXBT', 'ZECEUR', 'ZECUSD', 'YFIEUR', 'YFIUSD', 'YGGEUR', 'YGGUSD', 'ZETAEUR', 'ZETAUSD', 'EURUSD', 'ZEUSEUR', 'ZEUSUSD', 'ZEXEUR', 'ZEXUSD', 'GBPUSD', 'ZKEUR', 'ZKUSD', 'ZROEUR', 'ZROUSD', 'ZRXEUR', 'ZRXUSD', 'ZRXXBT', 'USDCAD', 'USDJPY']\n",
      "{'error': [], 'result': {'ADA': {'balance': '0.00000000', 'hold_trade': '0.00000000'}, 'ATOM': {'balance': '0.00000000', 'hold_trade': '0.00000000'}, 'ATOM.F': {'balance': '5.20928100', 'hold_trade': '0.00000000'}, 'GBP.HOLD': {'balance': '0.0000', 'hold_trade': '0.0000'}, 'MSOL': {'balance': '0.6047700000', 'hold_trade': '0.0000000000'}, 'OP': {'balance': '0.000000', 'hold_trade': '0.000000'}, 'SOL': {'balance': '0.0000000000', 'hold_trade': '0.0000000000'}, 'SOL.F': {'balance': '1.1884947880', 'hold_trade': '0.0000000000'}, 'TRX': {'balance': '0.00000000', 'hold_trade': '0.00000000'}, 'USDT': {'balance': '0.00000000', 'hold_trade': '0.00000000'}, 'ZGBP': {'balance': '3.8113', 'hold_trade': '0.0000'}}}\n",
      "{'ATOM.F': 5.209281, 'MSOL': 0.60477, 'SOL.F': 1.188494788, 'ZGBP': 3.8113}\n"
     ]
    }
   ],
   "source": [
    "# Function to get the balance of all assets in the Kraken account with the given API keys\n",
    "def grab_ext_bal():\n",
    "    # Construct the Kraken API request and get the External Balance Information\n",
    "    resp = kraken_request(api_endpoints['ExtendedBalance'], {\"nonce\": generate_nonce(),}, api_key, api_sec).json()\n",
    "    print(resp)\n",
    "    balanceDict = {}\n",
    "    # Extract the balance of each asset and the asset name\n",
    "    for asset, details in resp['result'].items():\n",
    "        balance = details['balance']\n",
    "        if float(balance) == 0:\n",
    "            continue   \n",
    "        balanceDict[asset] = float(balance)\n",
    "\n",
    "    return balanceDict\n",
    "\n",
    "assetPairs = grab_all_assets()\n",
    "balanceDict = grab_ext_bal()\n",
    "print(balanceDict)"
   ]
  },
  {
   "cell_type": "code",
   "execution_count": null,
   "metadata": {},
   "outputs": [],
   "source": [
    "sns.set_theme(style='darkgrid')\n",
    "\n",
    "# Define seaborn color palette\n",
    "sns.set_palette('light:#5A9', n_colors=len(balanceDict))\n",
    "\n",
    "\n",
    "\n",
    "# Extract labels and values\n",
    "labels = list(balanceDict.keys())\n",
    "values = list(balanceDict.values())\n",
    "\n",
    "fig = plt.figure(figsize=(16, 16), dpi=1600)\n",
    "\n",
    "# Initialize 9 subplots 3x3\n",
    "fig, ax = plt.subplots(3, 3 , figsize=(12, 12), dpi=1600)\n",
    "# Plot pie chart\n",
    "\n",
    "ax[1,1].pie(values, labels=labels, autopct='%1.1f%%')\n",
    "plt.title('Asset Distribution')\n",
    "plt.show()\n",
    "\n",
    "\n",
    "\n",
    "\n",
    "\n",
    "ledgerTypes = ['all']\n",
    "print(','.join(ledgerTypes))\n",
    "# Construct the Kraken API request and get ledger information\n",
    "resp = kraken_request(api_endpoints['Ledgers'], {\n",
    "        \"nonce\": generate_nonce(),\n",
    "        \"type\": 'all',\n",
    "        \"start\": 1695728276,\n",
    "        \"end\": 1695828276,\n",
    "        \n",
    "    }, api_key, api_sec)\n",
    "\n",
    "    # Convert the response JSON to a Python dictionary\n",
    "data = resp.json()\n",
    "print(\"Ledger Information: \", data)\n",
    "\n",
    "'''\n",
    "# Convert to spot pair names\n",
    "for i in range(len(portfolioPairs)):\n",
    "    portfolioPairs[i] = portfolioPairs[i] + \"USD\"\n",
    "'''\n"
   ]
  },
  {
   "cell_type": "code",
   "execution_count": null,
   "metadata": {},
   "outputs": [],
   "source": [
    "api_endpoints = {\n",
    "    'Assets': '/public/Assets',\n",
    "    'AssetPairs': '/public/AssetPairs',\n",
    "    'Ticker': '/public/Ticker',\n",
    "    'OHLC': '/public/OHLC',\n",
    "\n",
    "    'Balance': '/private/Balance',\n",
    "    'ExtendedBalance': '/private/BalanceEx',\n",
    "    'Ledgers': '/private/Ledgers',\n",
    "    'QueryLedgers': '/private/QueryLedgers',\n",
    "    'TradeVolume': '/private/TradeVolume',\n",
    "}\n",
    "\n",
    "print(\"api_endpoints: \", api_url + api_endpoints['Assets'])"
   ]
  },
  {
   "cell_type": "code",
   "execution_count": null,
   "metadata": {},
   "outputs": [],
   "source": [
    "import requests\n",
    "import json\n",
    "\n",
    "url = \"https://api.kraken.com/0/private/QueryLedgers\"\n",
    "\n",
    "payload = json.dumps({\n",
    "  \"nonce\": 1695828490,\n",
    "  \"id\": \"LBRWPL-NM5KL-YLWZNU, LBTD5Q-H23DC-YRUPVY\",\n",
    "  \"trade\": False\n",
    "})\n",
    "headers = {\n",
    "  'Content-Type': 'application/json',\n",
    "  'Accept': 'application/json',\n",
    "  'API-Key': 'jUctxyUKBrXM4MqGIbhtjLGZVG0zs3pJSmdX7IDZRF44SmUZwVGr+MY4',\n",
    "  'API-Sign': 'FIZ/RPuw4ZCDujZ7m8G0Ige+WwfUyGxTSchO73goSmPtIe4ZSABakZpFQy3VTLpqKqo5aaqXyaQmi+5jymk26A=='\n",
    "}\n",
    "\n",
    "response = requests.request(\"POST\", url, headers=headers, data=payload).json()\n",
    "\n",
    "print(response['result'])"
   ]
  }
 ],
 "metadata": {
  "kernelspec": {
   "display_name": "Python 3",
   "language": "python",
   "name": "python3"
  },
  "language_info": {
   "codemirror_mode": {
    "name": "ipython",
    "version": 3
   },
   "file_extension": ".py",
   "mimetype": "text/x-python",
   "name": "python",
   "nbconvert_exporter": "python",
   "pygments_lexer": "ipython3",
   "version": "3.11.9"
  }
 },
 "nbformat": 4,
 "nbformat_minor": 2
}
